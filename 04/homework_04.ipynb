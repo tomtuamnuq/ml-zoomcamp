{
 "cells": [
  {
   "cell_type": "code",
   "execution_count": 1,
   "metadata": {
    "colab": {
     "base_uri": "https://localhost:8080/"
    },
    "id": "8agKRp6B1mrx",
    "outputId": "31b975b2-0853-4a27-f6f1-80201f2bb5ee"
   },
   "outputs": [
    {
     "name": "stdout",
     "output_type": "stream",
     "text": [
      "--2024-10-14 19:24:56--  https://archive.ics.uci.edu/static/public/222/bank+marketing.zip\n",
      "CA-Zertifikat »/etc/ssl/certs/ca-certificates.crt« wurde geladen\n",
      "Auflösen des Hostnamens archive.ics.uci.edu (archive.ics.uci.edu)… 128.195.10.252\n",
      "Verbindungsaufbau zu archive.ics.uci.edu (archive.ics.uci.edu)|128.195.10.252|:443 … verbunden.\n",
      "HTTP-Anforderung gesendet, auf Antwort wird gewartet … 200 OK\n",
      "Länge: nicht spezifiziert\n",
      "Wird in »bank+marketing.zip« gespeichert.\n",
      "\n",
      "bank+marketing.zip      [    <=>             ] 999,85K  1,07MB/s    in 0,9s    \n",
      "\n",
      "2024-10-14 19:24:58 (1,07 MB/s) - »bank+marketing.zip« gespeichert [1023843]\n",
      "\n"
     ]
    }
   ],
   "source": [
    "! wget https://archive.ics.uci.edu/static/public/222/bank+marketing.zip\n",
    "\n",
    "import shutil\n",
    "shutil.unpack_archive(\"bank+marketing.zip\", \".\")\n",
    "shutil.unpack_archive(\"bank.zip\", \".\")"
   ]
  },
  {
   "cell_type": "code",
   "execution_count": 2,
   "metadata": {
    "id": "asAn02TQ7SkQ"
   },
   "outputs": [],
   "source": [
    "import pandas as pd\n",
    "import seaborn as sns\n",
    "import matplotlib.pyplot as plt\n",
    "import numpy as np"
   ]
  },
  {
   "cell_type": "code",
   "execution_count": 3,
   "metadata": {
    "colab": {
     "base_uri": "https://localhost:8080/",
     "height": 206
    },
    "id": "ggiGMpXf2QG3",
    "outputId": "b7f7d459-b8a9-4aab-be6f-5254540cdf9f"
   },
   "outputs": [
    {
     "data": {
      "text/html": [
       "<div>\n",
       "<style scoped>\n",
       "    .dataframe tbody tr th:only-of-type {\n",
       "        vertical-align: middle;\n",
       "    }\n",
       "\n",
       "    .dataframe tbody tr th {\n",
       "        vertical-align: top;\n",
       "    }\n",
       "\n",
       "    .dataframe thead th {\n",
       "        text-align: right;\n",
       "    }\n",
       "</style>\n",
       "<table border=\"1\" class=\"dataframe\">\n",
       "  <thead>\n",
       "    <tr style=\"text-align: right;\">\n",
       "      <th></th>\n",
       "      <th>age</th>\n",
       "      <th>job</th>\n",
       "      <th>marital</th>\n",
       "      <th>education</th>\n",
       "      <th>default</th>\n",
       "      <th>balance</th>\n",
       "      <th>housing</th>\n",
       "      <th>loan</th>\n",
       "      <th>contact</th>\n",
       "      <th>day</th>\n",
       "      <th>month</th>\n",
       "      <th>duration</th>\n",
       "      <th>campaign</th>\n",
       "      <th>pdays</th>\n",
       "      <th>previous</th>\n",
       "      <th>poutcome</th>\n",
       "      <th>y</th>\n",
       "    </tr>\n",
       "  </thead>\n",
       "  <tbody>\n",
       "    <tr>\n",
       "      <th>0</th>\n",
       "      <td>58</td>\n",
       "      <td>management</td>\n",
       "      <td>married</td>\n",
       "      <td>tertiary</td>\n",
       "      <td>no</td>\n",
       "      <td>2143</td>\n",
       "      <td>yes</td>\n",
       "      <td>no</td>\n",
       "      <td>unknown</td>\n",
       "      <td>5</td>\n",
       "      <td>may</td>\n",
       "      <td>261</td>\n",
       "      <td>1</td>\n",
       "      <td>-1</td>\n",
       "      <td>0</td>\n",
       "      <td>unknown</td>\n",
       "      <td>no</td>\n",
       "    </tr>\n",
       "    <tr>\n",
       "      <th>1</th>\n",
       "      <td>44</td>\n",
       "      <td>technician</td>\n",
       "      <td>single</td>\n",
       "      <td>secondary</td>\n",
       "      <td>no</td>\n",
       "      <td>29</td>\n",
       "      <td>yes</td>\n",
       "      <td>no</td>\n",
       "      <td>unknown</td>\n",
       "      <td>5</td>\n",
       "      <td>may</td>\n",
       "      <td>151</td>\n",
       "      <td>1</td>\n",
       "      <td>-1</td>\n",
       "      <td>0</td>\n",
       "      <td>unknown</td>\n",
       "      <td>no</td>\n",
       "    </tr>\n",
       "    <tr>\n",
       "      <th>2</th>\n",
       "      <td>33</td>\n",
       "      <td>entrepreneur</td>\n",
       "      <td>married</td>\n",
       "      <td>secondary</td>\n",
       "      <td>no</td>\n",
       "      <td>2</td>\n",
       "      <td>yes</td>\n",
       "      <td>yes</td>\n",
       "      <td>unknown</td>\n",
       "      <td>5</td>\n",
       "      <td>may</td>\n",
       "      <td>76</td>\n",
       "      <td>1</td>\n",
       "      <td>-1</td>\n",
       "      <td>0</td>\n",
       "      <td>unknown</td>\n",
       "      <td>no</td>\n",
       "    </tr>\n",
       "    <tr>\n",
       "      <th>3</th>\n",
       "      <td>47</td>\n",
       "      <td>blue-collar</td>\n",
       "      <td>married</td>\n",
       "      <td>unknown</td>\n",
       "      <td>no</td>\n",
       "      <td>1506</td>\n",
       "      <td>yes</td>\n",
       "      <td>no</td>\n",
       "      <td>unknown</td>\n",
       "      <td>5</td>\n",
       "      <td>may</td>\n",
       "      <td>92</td>\n",
       "      <td>1</td>\n",
       "      <td>-1</td>\n",
       "      <td>0</td>\n",
       "      <td>unknown</td>\n",
       "      <td>no</td>\n",
       "    </tr>\n",
       "    <tr>\n",
       "      <th>4</th>\n",
       "      <td>33</td>\n",
       "      <td>unknown</td>\n",
       "      <td>single</td>\n",
       "      <td>unknown</td>\n",
       "      <td>no</td>\n",
       "      <td>1</td>\n",
       "      <td>no</td>\n",
       "      <td>no</td>\n",
       "      <td>unknown</td>\n",
       "      <td>5</td>\n",
       "      <td>may</td>\n",
       "      <td>198</td>\n",
       "      <td>1</td>\n",
       "      <td>-1</td>\n",
       "      <td>0</td>\n",
       "      <td>unknown</td>\n",
       "      <td>no</td>\n",
       "    </tr>\n",
       "  </tbody>\n",
       "</table>\n",
       "</div>"
      ],
      "text/plain": [
       "   age           job  marital  education default  balance housing loan  \\\n",
       "0   58    management  married   tertiary      no     2143     yes   no   \n",
       "1   44    technician   single  secondary      no       29     yes   no   \n",
       "2   33  entrepreneur  married  secondary      no        2     yes  yes   \n",
       "3   47   blue-collar  married    unknown      no     1506     yes   no   \n",
       "4   33       unknown   single    unknown      no        1      no   no   \n",
       "\n",
       "   contact  day month  duration  campaign  pdays  previous poutcome   y  \n",
       "0  unknown    5   may       261         1     -1         0  unknown  no  \n",
       "1  unknown    5   may       151         1     -1         0  unknown  no  \n",
       "2  unknown    5   may        76         1     -1         0  unknown  no  \n",
       "3  unknown    5   may        92         1     -1         0  unknown  no  \n",
       "4  unknown    5   may       198         1     -1         0  unknown  no  "
      ]
     },
     "execution_count": 3,
     "metadata": {},
     "output_type": "execute_result"
    }
   ],
   "source": [
    "df = pd.read_csv(\"bank-full.csv\", sep=\";\")\n",
    "df.head()"
   ]
  },
  {
   "cell_type": "code",
   "execution_count": 4,
   "metadata": {
    "colab": {
     "base_uri": "https://localhost:8080/"
    },
    "id": "ymUUb3jK2x91",
    "outputId": "868e10a9-1d9e-464e-cbd8-4d6a953a30bc"
   },
   "outputs": [
    {
     "name": "stdout",
     "output_type": "stream",
     "text": [
      "<class 'pandas.core.frame.DataFrame'>\n",
      "RangeIndex: 45211 entries, 0 to 45210\n",
      "Data columns (total 15 columns):\n",
      " #   Column     Non-Null Count  Dtype \n",
      "---  ------     --------------  ----- \n",
      " 0   age        45211 non-null  int64 \n",
      " 1   job        45211 non-null  object\n",
      " 2   marital    45211 non-null  object\n",
      " 3   education  45211 non-null  object\n",
      " 4   balance    45211 non-null  int64 \n",
      " 5   housing    45211 non-null  object\n",
      " 6   contact    45211 non-null  object\n",
      " 7   day        45211 non-null  int64 \n",
      " 8   month      45211 non-null  object\n",
      " 9   duration   45211 non-null  int64 \n",
      " 10  campaign   45211 non-null  int64 \n",
      " 11  pdays      45211 non-null  int64 \n",
      " 12  previous   45211 non-null  int64 \n",
      " 13  poutcome   45211 non-null  object\n",
      " 14  y          45211 non-null  object\n",
      "dtypes: int64(7), object(8)\n",
      "memory usage: 5.2+ MB\n"
     ]
    }
   ],
   "source": [
    "features = [\n",
    "    'age',\n",
    "    'job',\n",
    "    'marital',\n",
    "    'education',\n",
    "    'balance',\n",
    "    'housing',\n",
    "    'contact',\n",
    "    'day',\n",
    "    'month',\n",
    "    'duration',\n",
    "    'campaign',\n",
    "    'pdays',\n",
    "    'previous',\n",
    "    'poutcome',\n",
    "    'y'\n",
    "]\n",
    "df = df[features]\n",
    "df.info() # no missing values"
   ]
  },
  {
   "cell_type": "markdown",
   "metadata": {
    "id": "inVS2s9I7chg"
   },
   "source": [
    "## Target encoding\n",
    "\n",
    "    Now we want to encode the y variable.\n",
    "    Let's replace the values yes/no with 1/0."
   ]
  },
  {
   "cell_type": "code",
   "execution_count": 5,
   "metadata": {
    "colab": {
     "base_uri": "https://localhost:8080/",
     "height": 178
    },
    "id": "hyt09unK7ubX",
    "outputId": "831b8527-28cb-4f42-acff-4f9fd9048f67"
   },
   "outputs": [
    {
     "data": {
      "text/plain": [
       "y\n",
       "0    39922\n",
       "1     5289\n",
       "Name: count, dtype: int64"
      ]
     },
     "execution_count": 5,
     "metadata": {},
     "output_type": "execute_result"
    }
   ],
   "source": [
    "y = df.y.map({\"yes\": 1, \"no\": 0})\n",
    "df = df.drop(\"y\", axis=1)\n",
    "y.value_counts()"
   ]
  },
  {
   "cell_type": "markdown",
   "metadata": {
    "id": "qdfDakMz7tmP"
   },
   "source": [
    "## Split the data\n",
    "\n",
    "Split the data into 3 parts: train/validation/test with 60%/20%/20% distribution. Use train_test_split function for that with random_state=1"
   ]
  },
  {
   "cell_type": "code",
   "execution_count": 6,
   "metadata": {
    "id": "YX6sdRvW8M-n"
   },
   "outputs": [],
   "source": [
    "from sklearn.model_selection import train_test_split\n",
    "X_train, X_test, y_train, y_test = train_test_split(df, y, test_size=0.2, random_state=1)\n",
    "X_train, X_val, y_train, y_val = train_test_split(X_train, y_train, test_size=0.25, random_state=1) # 0.25 x 0.8 = 0.2"
   ]
  },
  {
   "cell_type": "markdown",
   "metadata": {
    "id": "A3pnUMEc96DO"
   },
   "source": [
    "# Question 1: ROC AUC feature importance"
   ]
  },
  {
   "cell_type": "code",
   "execution_count": 7,
   "metadata": {},
   "outputs": [
    {
     "data": {
      "text/html": [
       "<div>\n",
       "<style scoped>\n",
       "    .dataframe tbody tr th:only-of-type {\n",
       "        vertical-align: middle;\n",
       "    }\n",
       "\n",
       "    .dataframe tbody tr th {\n",
       "        vertical-align: top;\n",
       "    }\n",
       "\n",
       "    .dataframe thead th {\n",
       "        text-align: right;\n",
       "    }\n",
       "</style>\n",
       "<table border=\"1\" class=\"dataframe\">\n",
       "  <thead>\n",
       "    <tr style=\"text-align: right;\">\n",
       "      <th></th>\n",
       "      <th>Feature</th>\n",
       "      <th>ROC_AUC</th>\n",
       "    </tr>\n",
       "  </thead>\n",
       "  <tbody>\n",
       "    <tr>\n",
       "      <th>0</th>\n",
       "      <td>age</td>\n",
       "      <td>0.487814</td>\n",
       "    </tr>\n",
       "    <tr>\n",
       "      <th>2</th>\n",
       "      <td>day</td>\n",
       "      <td>0.525958</td>\n",
       "    </tr>\n",
       "    <tr>\n",
       "      <th>4</th>\n",
       "      <td>campaign</td>\n",
       "      <td>0.571454</td>\n",
       "    </tr>\n",
       "    <tr>\n",
       "      <th>1</th>\n",
       "      <td>balance</td>\n",
       "      <td>0.588831</td>\n",
       "    </tr>\n",
       "    <tr>\n",
       "      <th>5</th>\n",
       "      <td>pdays</td>\n",
       "      <td>0.590128</td>\n",
       "    </tr>\n",
       "    <tr>\n",
       "      <th>6</th>\n",
       "      <td>previous</td>\n",
       "      <td>0.598565</td>\n",
       "    </tr>\n",
       "    <tr>\n",
       "      <th>3</th>\n",
       "      <td>duration</td>\n",
       "      <td>0.814700</td>\n",
       "    </tr>\n",
       "  </tbody>\n",
       "</table>\n",
       "</div>"
      ],
      "text/plain": [
       "    Feature   ROC_AUC\n",
       "0       age  0.487814\n",
       "2       day  0.525958\n",
       "4  campaign  0.571454\n",
       "1   balance  0.588831\n",
       "5     pdays  0.590128\n",
       "6  previous  0.598565\n",
       "3  duration  0.814700"
      ]
     },
     "execution_count": 7,
     "metadata": {},
     "output_type": "execute_result"
    }
   ],
   "source": [
    "from sklearn.linear_model import LogisticRegression\n",
    "from sklearn.metrics import roc_auc_score\n",
    "\n",
    "numerical_columns = X_train.select_dtypes(exclude=['object']).columns\n",
    "\n",
    "def feature_importance(X, y=y_train):\n",
    "    model = LogisticRegression(random_state=1)\n",
    "    model.fit(X, y)\n",
    "    y_probs = model.predict_proba(X)[:, 1]\n",
    "    return roc_auc_score(y_train, y_probs)\n",
    "\n",
    "roc_per_feature = [feature_importance(X_train[[feature]]) for feature in numerical_columns] \n",
    "pd.DataFrame(data=dict(Feature=numerical_columns, ROC_AUC=roc_per_feature)).sort_values('ROC_AUC')    "
   ]
  },
  {
   "cell_type": "code",
   "execution_count": 8,
   "metadata": {},
   "outputs": [
    {
     "data": {
      "text/plain": [
       "np.float64(0.48781428247265596)"
      ]
     },
     "execution_count": 8,
     "metadata": {},
     "output_type": "execute_result"
    }
   ],
   "source": [
    "feature_importance(-X_train[['age']])"
   ]
  },
  {
   "cell_type": "markdown",
   "metadata": {
    "id": "KYI1UqmKA7IP"
   },
   "source": [
    "# Question 2: Training the model"
   ]
  },
  {
   "cell_type": "code",
   "execution_count": 9,
   "metadata": {},
   "outputs": [
    {
     "name": "stdout",
     "output_type": "stream",
     "text": [
      "The AUC is 0.9\n"
     ]
    }
   ],
   "source": [
    "from sklearn.feature_extraction import DictVectorizer\n",
    "\n",
    "X = X_train.to_dict(orient='records')\n",
    "# Apply DictVectorizer to perform one-hot encoding\n",
    "dv = DictVectorizer(sparse=False)\n",
    "X = dv.fit_transform(X)\n",
    "\n",
    "model = LogisticRegression(solver='liblinear', C=1.0, max_iter=1000)\n",
    "model.fit(X, y_train)\n",
    "\n",
    "# Make predictions and calculate the AUC on the validation set\n",
    "X = X_val.to_dict(orient='records')\n",
    "X = dv.transform(X)\n",
    "y_pred_prob = model.predict_proba(X)[:, 1]\n",
    "auc = roc_auc_score(y_val, y_pred_prob)\n",
    "\n",
    "print(f\"The AUC is {auc:.3}\")"
   ]
  },
  {
   "cell_type": "markdown",
   "metadata": {
    "id": "Z7nY_BrlGRWP"
   },
   "source": [
    "# Question 3: Precision and Recall"
   ]
  },
  {
   "cell_type": "code",
   "execution_count": 10,
   "metadata": {
    "colab": {
     "base_uri": "https://localhost:8080/",
     "height": 489
    },
    "id": "Zg4rRfQ8DqCu",
    "outputId": "47e1eef6-fc6d-499f-dfcf-0bcc79352d93"
   },
   "outputs": [
    {
     "data": {
      "image/png": "[encoded data removed]",
      "text/plain": [
       "<Figure size 1000x600 with 1 Axes>"
      ]
     },
     "metadata": {},
     "output_type": "display_data"
    }
   ],
   "source": [
    "from sklearn.metrics import precision_score, recall_score\n",
    "\n",
    "# Define thresholds from 0.0 to 1.0 with a step of 0.01\n",
    "thresholds = np.arange(0.0, 1.0, 0.01)\n",
    "\n",
    "precision_values = []\n",
    "recall_values = []\n",
    "# For each threshold, compute precision and recall\n",
    "for threshold in thresholds:\n",
    "    y_pred_threshold = (y_pred_prob >= threshold).astype(int)\n",
    "    precision_values.append(precision_score(y_val, y_pred_threshold))\n",
    "    recall_values.append(recall_score(y_val, y_pred_threshold))\n",
    "\n",
    "plt.figure(figsize=(10, 6))\n",
    "plt.plot(thresholds, precision_values, label='Precision', linestyle='-', marker='o')\n",
    "plt.plot(thresholds, recall_values, label='Recall', linestyle='-', marker='o')\n",
    "plt.xlabel('Threshold')\n",
    "plt.ylabel('Score')\n",
    "plt.title('Precision and Recall vs Threshold')\n",
    "plt.legend()\n",
    "plt.grid(True)\n",
    "plt.show()"
   ]
  },
  {
   "cell_type": "markdown",
   "metadata": {
    "id": "Z8lmGlhrJhXA"
   },
   "source": [
    "# Question 4: F1 score"
   ]
  },
  {
   "cell_type": "code",
   "execution_count": 11,
   "metadata": {
    "colab": {
     "base_uri": "https://localhost:8080/",
     "height": 206
    },
    "id": "FtQC73TvJkAR",
    "outputId": "7f290ea8-0ab3-43de-8efc-591e8ca4db99"
   },
   "outputs": [
    {
     "data": {
      "image/png": "[encoded data removed]",
      "text/plain": [
       "<Figure size 1000x600 with 1 Axes>"
      ]
     },
     "metadata": {},
     "output_type": "display_data"
    }
   ],
   "source": [
    "P = np.array(precision_values)\n",
    "R = np.array(recall_values)\n",
    "f1_scores = 2 * P * R / (P + R)\n",
    "idx = f1_scores.argmax()\n",
    "f1_max = f1_scores[idx]\n",
    "threshold_max = thresholds[idx]\n",
    "plt.figure(figsize=(10, 6))\n",
    "plt.plot(thresholds, f1_scores, label='F1 Score', linestyle='-', marker='o')\n",
    "plt.axvline(x=threshold_max, label=f\"{f1_max:.2} max F1 at {threshold_max}\", color='r')\n",
    "plt.xlabel('Threshold')\n",
    "plt.ylabel('Score')\n",
    "plt.title('F1 Score vs Threshold')\n",
    "plt.legend()\n",
    "plt.grid(True)\n",
    "plt.show()"
   ]
  },
  {
   "cell_type": "markdown",
   "metadata": {},
   "source": [
    "# Question 5: 5-Fold CV"
   ]
  },
  {
   "cell_type": "code",
   "execution_count": 12,
   "metadata": {},
   "outputs": [
    {
     "data": {
      "text/plain": [
       "[np.float64(0.9069509630450453),\n",
       " np.float64(0.8989261029741773),\n",
       " np.float64(0.9055266745586685),\n",
       " np.float64(0.9124494732828068),\n",
       " np.float64(0.9067924338924525)]"
      ]
     },
     "execution_count": 12,
     "metadata": {},
     "output_type": "execute_result"
    }
   ],
   "source": [
    "from sklearn.model_selection import KFold\n",
    "\n",
    "def train_eval_logistic_regression(X, y, C=1.0) -> list[float]:\n",
    "    kf = KFold(n_splits=5, shuffle=True, random_state=1)\n",
    "    auc_per_fold = []\n",
    "    \n",
    "    for train_index, val_index in kf.split(X):\n",
    "        X_train, X_val, y_train, y_val = X.iloc[train_index], X.iloc[val_index], y.iloc[train_index], y.iloc[val_index]\n",
    "        X_train = X_train.to_dict(orient='records')\n",
    "        dv = DictVectorizer(sparse=False)\n",
    "        X_train = dv.fit_transform(X_train)\n",
    "        \n",
    "        model = LogisticRegression(solver='liblinear', C=C, max_iter=1000)\n",
    "        model.fit(X_train, y_train)\n",
    "        \n",
    "        # Make predictions and calculate the AUC on the validation set\n",
    "        X_val = X_val.to_dict(orient='records')\n",
    "        X_val = dv.transform(X_val)\n",
    "        \n",
    "        y_pred_prob = model.predict_proba(X_val)[:, 1]\n",
    "        auc = roc_auc_score(y_val, y_pred_prob)\n",
    "        auc_per_fold.append(auc)\n",
    "        \n",
    "    return auc_per_fold\n",
    "\n",
    "auc_per_fold = train_eval_logistic_regression(df, y)\n",
    "auc_per_fold"
   ]
  },
  {
   "cell_type": "code",
   "execution_count": 13,
   "metadata": {},
   "outputs": [
    {
     "data": {
      "text/plain": [
       "np.float64(0.004319922955648932)"
      ]
     },
     "execution_count": 13,
     "metadata": {},
     "output_type": "execute_result"
    }
   ],
   "source": [
    "auc_per_fold = np.array(auc_per_fold)\n",
    "auc_per_fold.std()"
   ]
  },
  {
   "cell_type": "markdown",
   "metadata": {},
   "source": [
    "# Question 6: Hyperparameter Tuning"
   ]
  },
  {
   "cell_type": "code",
   "execution_count": 14,
   "metadata": {},
   "outputs": [
    {
     "data": {
      "text/html": [
       "<div>\n",
       "<style scoped>\n",
       "    .dataframe tbody tr th:only-of-type {\n",
       "        vertical-align: middle;\n",
       "    }\n",
       "\n",
       "    .dataframe tbody tr th {\n",
       "        vertical-align: top;\n",
       "    }\n",
       "\n",
       "    .dataframe thead th {\n",
       "        text-align: right;\n",
       "    }\n",
       "</style>\n",
       "<table border=\"1\" class=\"dataframe\">\n",
       "  <thead>\n",
       "    <tr style=\"text-align: right;\">\n",
       "      <th></th>\n",
       "      <th>C</th>\n",
       "      <th>mean</th>\n",
       "      <th>std</th>\n",
       "    </tr>\n",
       "  </thead>\n",
       "  <tbody>\n",
       "    <tr>\n",
       "      <th>0</th>\n",
       "      <td>0.000001</td>\n",
       "      <td>0.705</td>\n",
       "      <td>0.011</td>\n",
       "    </tr>\n",
       "    <tr>\n",
       "      <th>1</th>\n",
       "      <td>0.001000</td>\n",
       "      <td>0.868</td>\n",
       "      <td>0.006</td>\n",
       "    </tr>\n",
       "    <tr>\n",
       "      <th>2</th>\n",
       "      <td>1.000000</td>\n",
       "      <td>0.906</td>\n",
       "      <td>0.004</td>\n",
       "    </tr>\n",
       "  </tbody>\n",
       "</table>\n",
       "</div>"
      ],
      "text/plain": [
       "          C   mean    std\n",
       "0  0.000001  0.705  0.011\n",
       "1  0.001000  0.868  0.006\n",
       "2  1.000000  0.906  0.004"
      ]
     },
     "execution_count": 14,
     "metadata": {},
     "output_type": "execute_result"
    }
   ],
   "source": [
    "param_C_candiates = [0.000001, 0.001, 1]\n",
    "\n",
    "mean_score_per_C = []\n",
    "std_per_C = []\n",
    "for C in param_C_candiates:\n",
    "    auc_per_fold = train_eval_logistic_regression(df, y, C=C)\n",
    "    auc_per_fold = np.array(auc_per_fold)\n",
    "    mean_score_per_C.append(round(auc_per_fold.mean(), 3))\n",
    "    std_per_C.append(round(auc_per_fold.std(), 3))\n",
    "\n",
    "pd.DataFrame(data=dict(C=param_C_candiates, mean=mean_score_per_C, std=std_per_C)).sort_values(\"mean\")"
   ]
  }
 ],
 "metadata": {
  "colab": {
   "provenance": []
  },
  "kernelspec": {
   "display_name": "Python 3 (ipykernel)",
   "language": "python",
   "name": "python3"
  },
  "language_info": {
   "codemirror_mode": {
    "name": "ipython",
    "version": 3
   },
   "file_extension": ".py",
   "mimetype": "text/x-python",
   "name": "python",
   "nbconvert_exporter": "python",
   "pygments_lexer": "ipython3",
   "version": "3.11.10"
  }
 },
 "nbformat": 4,
 "nbformat_minor": 4
}
