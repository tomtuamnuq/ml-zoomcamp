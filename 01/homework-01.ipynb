{
 "cells": [
  {
   "cell_type": "code",
   "execution_count": 1,
   "id": "f0ff30e5-0678-4c94-b7b4-f6cd195bdc3e",
   "metadata": {},
   "outputs": [
    {
     "data": {
      "text/plain": [
       "'2.2.2'"
      ]
     },
     "execution_count": 1,
     "metadata": {},
     "output_type": "execute_result"
    }
   ],
   "source": [
    "import pandas as pd\n",
    "import numpy as np\n",
    "pd.__version__"
   ]
  },
  {
   "cell_type": "code",
   "execution_count": 2,
   "id": "00e66002-70bc-4b9b-a167-2f9f20b6a5ed",
   "metadata": {},
   "outputs": [
    {
     "name": "stdout",
     "output_type": "stream",
     "text": [
      "<class 'pandas.core.frame.DataFrame'>\n",
      "RangeIndex: 2160 entries, 0 to 2159\n",
      "Data columns (total 12 columns):\n",
      " #   Column        Non-Null Count  Dtype  \n",
      "---  ------        --------------  -----  \n",
      " 0   Laptop        2160 non-null   object \n",
      " 1   Status        2160 non-null   object \n",
      " 2   Brand         2160 non-null   object \n",
      " 3   Model         2160 non-null   object \n",
      " 4   CPU           2160 non-null   object \n",
      " 5   RAM           2160 non-null   int64  \n",
      " 6   Storage       2160 non-null   int64  \n",
      " 7   Storage type  2118 non-null   object \n",
      " 8   GPU           789 non-null    object \n",
      " 9   Screen        2156 non-null   float64\n",
      " 10  Touch         2160 non-null   object \n",
      " 11  Final Price   2160 non-null   float64\n",
      "dtypes: float64(2), int64(2), object(8)\n",
      "memory usage: 202.6+ KB\n"
     ]
    }
   ],
   "source": [
    "df = pd.read_csv(\"laptops.csv\")\n",
    "df.info()"
   ]
  },
  {
   "cell_type": "code",
   "execution_count": 3,
   "id": "04fdf9e0-5d84-4502-b505-f29bcc48671a",
   "metadata": {},
   "outputs": [
    {
     "name": "stdout",
     "output_type": "stream",
     "text": [
      "There are 27 brands\n"
     ]
    },
    {
     "data": {
      "text/plain": [
       "['Asus',\n",
       " 'Alurin',\n",
       " 'MSI',\n",
       " 'HP',\n",
       " 'Lenovo',\n",
       " 'Medion',\n",
       " 'Acer',\n",
       " 'Apple',\n",
       " 'Razer',\n",
       " 'Gigabyte',\n",
       " 'Dell',\n",
       " 'LG',\n",
       " 'Samsung',\n",
       " 'PcCom',\n",
       " 'Microsoft',\n",
       " 'Primux',\n",
       " 'Prixton',\n",
       " 'Dynabook Toshiba',\n",
       " 'Thomson',\n",
       " 'Denver',\n",
       " 'Deep Gaming',\n",
       " 'Vant',\n",
       " 'Innjoo',\n",
       " 'Jetwing',\n",
       " 'Millenium',\n",
       " 'Realme',\n",
       " 'Toshiba']"
      ]
     },
     "execution_count": 3,
     "metadata": {},
     "output_type": "execute_result"
    }
   ],
   "source": [
    "brands = df['Brand'].unique()\n",
    "print(f\"There are {len(brands)} brands\")\n",
    "brands.tolist()"
   ]
  },
  {
   "cell_type": "code",
   "execution_count": 4,
   "id": "e555950a-ec69-4810-a340-e9a2751ecb0f",
   "metadata": {},
   "outputs": [
    {
     "data": {
      "text/plain": [
       "Laptop             0\n",
       "Status             0\n",
       "Brand              0\n",
       "Model              0\n",
       "CPU                0\n",
       "RAM                0\n",
       "Storage            0\n",
       "Storage type      42\n",
       "GPU             1371\n",
       "Screen             4\n",
       "Touch              0\n",
       "Final Price        0\n",
       "dtype: int64"
      ]
     },
     "execution_count": 4,
     "metadata": {},
     "output_type": "execute_result"
    }
   ],
   "source": [
    "df.isnull().sum()"
   ]
  },
  {
   "cell_type": "code",
   "execution_count": 5,
   "id": "de9a5fcf-0cde-4132-9ace-71a0a1d4f43c",
   "metadata": {},
   "outputs": [
    {
     "data": {
      "text/plain": [
       "np.float64(3936.0)"
      ]
     },
     "execution_count": 5,
     "metadata": {},
     "output_type": "execute_result"
    }
   ],
   "source": [
    "df.loc[df['Brand'] == 'Dell', 'Final Price'].max()"
   ]
  },
  {
   "cell_type": "code",
   "execution_count": 6,
   "id": "799daf07-6b3a-4ca4-9550-17dd0a02199e",
   "metadata": {},
   "outputs": [
    {
     "name": "stdout",
     "output_type": "stream",
     "text": [
      "Median of screen column before imputation:  15.6\n",
      "Most  frequent value (mode) of screen column before imputation:  15.6\n"
     ]
    },
    {
     "data": {
      "text/plain": [
       "Screen\n",
       "15.60    1009\n",
       "14.00     392\n",
       "16.00     174\n",
       "17.30     161\n",
       "13.30     131\n",
       "16.10      48\n",
       "17.00      33\n",
       "13.00      27\n",
       "15.00      21\n",
       "13.40      19\n",
       "13.50      19\n",
       "11.60      16\n",
       "14.20      14\n",
       "12.30      13\n",
       "14.10      11\n",
       "13.60      11\n",
       "16.20      10\n",
       "15.30       8\n",
       "10.50       7\n",
       "12.40       6\n",
       "14.40       6\n",
       "15.40       5\n",
       "12.00       4\n",
       "18.00       3\n",
       "14.50       3\n",
       "13.90       2\n",
       "12.50       1\n",
       "10.95       1\n",
       "10.10       1\n",
       "Name: count, dtype: int64"
      ]
     },
     "execution_count": 6,
     "metadata": {},
     "output_type": "execute_result"
    }
   ],
   "source": [
    "screen_median = df['Screen'].median()\n",
    "print(\"Median of screen column before imputation: \", screen_median)\n",
    "screen_counts = df['Screen'].value_counts()\n",
    "screen_mode = screen_counts.idxmax()\n",
    "print(\"Most  frequent value (mode) of screen column before imputation: \", screen_mode)\n",
    "screen_counts"
   ]
  },
  {
   "cell_type": "code",
   "execution_count": 7,
   "id": "c20a49a6-3041-4065-b5ff-4000b27cf69f",
   "metadata": {},
   "outputs": [
    {
     "name": "stdout",
     "output_type": "stream",
     "text": [
      "The median 15.6 has changed: False\n"
     ]
    }
   ],
   "source": [
    "screen_imputed = df['Screen'].fillna(screen_mode)\n",
    "screen_median_after_imputation = screen_imputed.median()\n",
    "print(f\"The median {screen_median_after_imputation} has changed: {screen_median != screen_median_after_imputation}\")"
   ]
  },
  {
   "cell_type": "code",
   "execution_count": 8,
   "id": "92c293da-6bd1-43e2-9d4e-9523df8cbe6a",
   "metadata": {},
   "outputs": [
    {
     "data": {
      "text/plain": [
       "array([[  8. , 256. ,  15.6],\n",
       "       [  8. , 512. ,  15.6],\n",
       "       [  4. ,  64. ,  14.1],\n",
       "       [  6. ,  64. ,  14.1],\n",
       "       [  6. , 128. ,  14.1],\n",
       "       [  6. , 128. ,  14.1]])"
      ]
     },
     "execution_count": 8,
     "metadata": {},
     "output_type": "execute_result"
    }
   ],
   "source": [
    "df['Screen'] = screen_imputed\n",
    "X = df.loc[df['Brand'] == 'Innjoo', ['RAM', 'Storage', 'Screen']].to_numpy()\n",
    "X"
   ]
  },
  {
   "cell_type": "code",
   "execution_count": 9,
   "id": "03bad2c6-41ca-4174-acc2-a909e29c8c5a",
   "metadata": {},
   "outputs": [
    {
     "data": {
      "text/plain": [
       "array([[ 1.00000000e+00,  5.21598882e-17, -7.04660473e-16],\n",
       "       [-2.75571802e-13,  1.00000000e+00, -2.84062325e-14],\n",
       "       [ 6.32385368e-15, -1.63195767e-18,  1.00000000e+00]])"
      ]
     },
     "execution_count": 9,
     "metadata": {},
     "output_type": "execute_result"
    }
   ],
   "source": [
    "XTX = np.matmul(X.T, X)\n",
    "XTX_inv = np.linalg.inv(XTX)\n",
    "np.matmul(XTX, XTX_inv) # identity matrix I_3"
   ]
  },
  {
   "cell_type": "code",
   "execution_count": 10,
   "id": "682f6ec7-0007-405f-8611-3da4d2cbe334",
   "metadata": {},
   "outputs": [
    {
     "data": {
      "text/plain": [
       "np.float64(91.2998806299555)"
      ]
     },
     "execution_count": 10,
     "metadata": {},
     "output_type": "execute_result"
    }
   ],
   "source": [
    "y = np.array([1100, 1300, 800, 900, 1000, 1100])\n",
    "w = np.matmul(np.matmul(XTX_inv, X.T), y)\n",
    "w.sum()"
   ]
  }
 ],
 "metadata": {
  "kernelspec": {
   "display_name": "Python 3.11 (ml-zoomcamp)",
   "language": "python",
   "name": "ml-zoomcamp"
  },
  "language_info": {
   "codemirror_mode": {
    "name": "ipython",
    "version": 3
   },
   "file_extension": ".py",
   "mimetype": "text/x-python",
   "name": "python",
   "nbconvert_exporter": "python",
   "pygments_lexer": "ipython3",
   "version": "3.11.10"
  }
 },
 "nbformat": 4,
 "nbformat_minor": 5
}
